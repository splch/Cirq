{
 "cells": [
  {
   "cell_type": "code",
   "execution_count": null,
   "metadata": {
    "id": "bE6S_bHcuZIg"
   },
   "outputs": [],
   "source": [
    "##### Copyright 2021 The Cirq Developers"
   ]
  },
  {
   "cell_type": "code",
   "execution_count": null,
   "metadata": {
    "cellView": "form",
    "id": "fwpnM5i0uaRZ"
   },
   "outputs": [],
   "source": [
    "#@title Licensed under the Apache License, Version 2.0 (the \"License\");\n",
    "# you may not use this file except in compliance with the License.\n",
    "# You may obtain a copy of the License at\n",
    "#\n",
    "# https://www.apache.org/licenses/LICENSE-2.0\n",
    "#\n",
    "# Unless required by applicable law or agreed to in writing, software\n",
    "# distributed under the License is distributed on an \"AS IS\" BASIS,\n",
    "# WITHOUT WARRANTIES OR CONDITIONS OF ANY KIND, either express or implied.\n",
    "# See the License for the specific language governing permissions and\n",
    "# limitations under the License."
   ]
  },
  {
   "cell_type": "markdown",
   "metadata": {
    "id": "AF-CFuvzPx4x"
   },
   "source": [
    "# Floquet calibration: Example and benchmark"
   ]
  },
  {
   "cell_type": "markdown",
   "metadata": {
    "id": "b692fcab6e07"
   },
   "source": [
    "<table class=\"tfo-notebook-buttons\" align=\"left\">\n",
    "  <td>\n",
    "    <a target=\"_blank\" href=\"https://quantumai.google/cirq/noise/floquet_calibration_example\"><img src=\"https://quantumai.google/site-assets/images/buttons/quantumai_logo_1x.png\" />View on QuantumAI</a>\n",
    "  </td>\n",
    "  <td>\n",
    "    <a target=\"_blank\" href=\"https://colab.research.google.com/github/quantumlib/Cirq/blob/master/docs/noise/floquet_calibration_example.ipynb\"><img src=\"https://quantumai.google/site-assets/images/buttons/colab_logo_1x.png\" />Run in Google Colab</a>\n",
    "  </td>\n",
    "  <td>\n",
    "    <a target=\"_blank\" href=\"https://github.com/quantumlib/Cirq/blob/master/docs/noise/floquet_calibration_example.ipynb\"><img src=\"https://quantumai.google/site-assets/images/buttons/github_logo_1x.png\" />View source on GitHub</a>\n",
    "  </td>\n",
    "  <td>\n",
    "    <a href=\"https://storage.googleapis.com/tensorflow_docs/Cirq/docs/noise/floquet_calibration_example.ipynb\"><img src=\"https://quantumai.google/site-assets/images/buttons/download_icon_1x.png\" />Download notebook</a>\n",
    "  </td>\n",
    "</table>"
   ]
  },
  {
   "cell_type": "markdown",
   "metadata": {
    "id": "MFbogziRQKFQ"
   },
   "source": [
    "This tutorial shows a detailed example and benchmark of Floquet calibration, a calibration technique introduced in the [Calibration: Overview and API](/cirq/noise/calibration_api.ipynb) tutorial."
   ]
  },
  {
   "cell_type": "markdown",
   "metadata": {
    "id": "pigDhoDrO7vr"
   },
   "source": [
    "## Setup\n",
    "Note: this notebook relies on unreleased Cirq features. If you want to try these features, make sure you install cirq via `pip install cirq --pre`."
   ]
  },
  {
   "cell_type": "code",
   "execution_count": 1,
   "metadata": {
    "id": "AXHWCnLzufVf"
   },
   "outputs": [
    {
     "data": {
      "text/plain": [
       "'0.15.0.dev'"
      ]
     },
     "execution_count": 1,
     "metadata": {},
     "output_type": "execute_result"
    }
   ],
   "source": [
    "try:\n",
    "    import cirq\n",
    "except ImportError:\n",
    "    print(\"installing cirq...\")\n",
    "    !pip install --quiet cirq --pre\n",
    "    print(\"installed cirq.\")\n",
    "    import cirq\n",
    "print(\"Using cirq version\", cirq.__version__)"
   ]
  },
  {
   "cell_type": "code",
   "execution_count": null,
   "metadata": {
    "id": "6zlksjAlum6f"
   },
   "outputs": [],
   "source": [
    "from typing import Iterable, List, Optional, Sequence\n",
    "\n",
    "import matplotlib.pyplot as plt\n",
    "import numpy as np\n",
    "import os \n",
    "\n",
    "import cirq\n",
    "import cirq_google as cg  # Contains the Floquet calibration tools."
   ]
  },
  {
   "cell_type": "markdown",
   "metadata": {
    "id": "138e4971b7aa"
   },
   "source": [
    "Note: Leave the `project_id` and/or `processor_id` blank to use a noisy simulator."
   ]
  },
  {
   "cell_type": "code",
   "execution_count": null,
   "metadata": {
    "cellView": "form",
    "id": "I6smmHNNiZWx"
   },
   "outputs": [],
   "source": [
    "# The Google Cloud Project id to use.\n",
    "project_id = '' #@param {type:\"string\"}\n",
    "processor_id = \"\" #@param {type:\"string\"}\n",
    "\n",
    "from cirq_google.engine.qcs_notebook import get_qcs_objects_for_notebook\n",
    "device_sampler = get_qcs_objects_for_notebook(project_id, processor_id)\n",
    "line_length = 20 if device_sampler.is_simulator else 35"
   ]
  },
  {
   "cell_type": "markdown",
   "metadata": {
    "id": "qOfoym5FmS3Q"
   },
   "source": [
    "## Defining the circuit"
   ]
  },
  {
   "cell_type": "markdown",
   "metadata": {
    "id": "a0Nrd1pkVWzo"
   },
   "source": [
    "We run Floquet calibration on a circuit which models the evolution of a single fermionic particle on 5 sites, realizing the Hamiltonian: \n",
    "\n",
    "$$\n",
    "H=\\sum_{m=0}^{L-1} J(\\sigma_{m}^{+} \\sigma_{m+1}^{-} + \\sigma_{m}^{+} \\sigma_{m+1}^{-}),\n",
    "$$\n",
    "\n",
    "where $\\sigma_{m}^{+}$ ($\\sigma_{m}^{-}$) are the raising (lowering) operators, and the single term describes the kinetic energy related to hopping from one site to the other. This [quirk circuit](https://algassert.com/quirk#circuit=%7B%22cols%22%3A%5B%5B1%2C1%2C%22X%22%5D%2C%5B%22Chance%22%2C%22Chance%22%2C%22Chance%22%2C%22Chance%22%2C%22Chance%22%5D%2C%5B%22~qcjg%22%2C1%2C%22~qcjg%22%5D%2C%5B1%2C%22~qcjg%22%2C1%2C%22~qcjg%22%5D%2C%5B%22Chance%22%2C%22Chance%22%2C%22Chance%22%2C%22Chance%22%2C%22Chance%22%5D%2C%5B%22~qcjg%22%2C1%2C%22~qcjg%22%5D%2C%5B1%2C%22~qcjg%22%2C1%2C%22~qcjg%22%5D%2C%5B%22Chance%22%2C%22Chance%22%2C%22Chance%22%2C%22Chance%22%2C%22Chance%22%5D%2C%5B%22~qcjg%22%2C1%2C%22~qcjg%22%5D%2C%5B1%2C%22~qcjg%22%2C1%2C%22~qcjg%22%5D%2C%5B%22Chance%22%2C%22Chance%22%2C%22Chance%22%2C%22Chance%22%2C%22Chance%22%5D%2C%5B%22~qcjg%22%2C1%2C%22~qcjg%22%5D%2C%5B1%2C%22~qcjg%22%2C1%2C%22~qcjg%22%5D%2C%5B%22Chance%22%2C%22Chance%22%2C%22Chance%22%2C%22Chance%22%2C%22Chance%22%5D%2C%5B%22~qcjg%22%2C1%2C%22~qcjg%22%5D%2C%5B1%2C%22~qcjg%22%2C1%2C%22~qcjg%22%5D%2C%5B%22Chance%22%2C%22Chance%22%2C%22Chance%22%2C%22Chance%22%2C%22Chance%22%5D%2C%5B%22~qcjg%22%2C1%2C%22~qcjg%22%5D%2C%5B1%2C%22~qcjg%22%2C1%2C%22~qcjg%22%5D%2C%5B%22Chance%22%2C%22Chance%22%2C%22Chance%22%2C%22Chance%22%2C%22Chance%22%5D%2C%5B%22~qcjg%22%2C1%2C%22~qcjg%22%5D%2C%5B1%2C%22~qcjg%22%2C1%2C%22~qcjg%22%5D%2C%5B%22Chance%22%2C%22Chance%22%2C%22Chance%22%2C%22Chance%22%2C%22Chance%22%5D%2C%5B%22~qcjg%22%2C1%2C%22~qcjg%22%5D%2C%5B1%2C%22~qcjg%22%2C1%2C%22~qcjg%22%5D%2C%5B%22Chance%22%2C%22Chance%22%2C%22Chance%22%2C%22Chance%22%2C%22Chance%22%5D%2C%5B%22~qcjg%22%2C1%2C%22~qcjg%22%5D%2C%5B1%2C%22~qcjg%22%2C1%2C%22~qcjg%22%5D%2C%5B%22Chance%22%2C%22Chance%22%2C%22Chance%22%2C%22Chance%22%2C%22Chance%22%5D%5D%2C%22gates%22%3A%5B%7B%22id%22%3A%22~qcjg%22%2C%22name%22%3A%22sqrtISWAP%22%2C%22matrix%22%3A%22%7B%7B1%2C0%2C0%2C0%7D%2C%7B0%2C%E2%88%9A%C2%BD%2C%E2%88%9A%C2%BDi%2C0%7D%2C%7B0%2C%E2%88%9A%C2%BDi%2C%E2%88%9A%C2%BD%2C0%7D%2C%7B0%2C0%2C0%2C1%7D%7D%22%7D%5D%7D) shows the evolution of the charge density.\n",
    "\n",
    "\n",
    "This simulation can be looked at as a highly simplified version of the paper from our group, [Observation of separated dynamics of charge and spin in the Fermi-Hubbard model](https://arxiv.org/pdf/2010.07965). We model only a single fermion in the non-interacting case (with $U=0$). For a single particle, the parasitic controlled phase does not impact the evolution, and we can use a single chain that one can think about it as being in either up or down spin states. The parameter $\\theta$ for $K(\\theta)$ is fixed to $\\pi/4$. To smooth out the inhomogeneities of the quantum chip, we are using the technique of _averaging over multiple qubit configurations_ from this paper. The difference is that we pick a line that we segment and run the same circuit in parallel on each segment corresponding to a different qubit configuration. We measure the charge density at each site index (qubit) by averaging the Z densities (see Fig 2.a for comparison). \n",
    "\n",
    "The physics of this problem for a closed chain (here we use an open chain) has been studied in [Accurately computing electronic properties of materials using eigenenergies](https://arxiv.org/abs/2012.00921) as well without the complex hopping term, hence we use no Z rotations between the $\\sqrt{\\text{iSWAP}}$ gates. This paper also describes the Floquet calibration fundamentals in Appendix A."
   ]
  },
  {
   "cell_type": "markdown",
   "metadata": {
    "id": "snwpbH80Wgf2"
   },
   "source": [
    "First we use the function `cirq_google.line_on_device` to return a line of qubits of a specified length."
   ]
  },
  {
   "cell_type": "code",
   "execution_count": null,
   "metadata": {
    "id": "briredSVWtHP"
   },
   "outputs": [],
   "source": [
    "line = cg.line_on_device(device_sampler.device, line_length)\n",
    "print(line)"
   ]
  },
  {
   "cell_type": "markdown",
   "metadata": {
    "id": "sApD5YFAXiWu"
   },
   "source": [
    "This line is now broken up into a number of segments of a specified length (number of qubits)."
   ]
  },
  {
   "cell_type": "code",
   "execution_count": null,
   "metadata": {
    "id": "kLBP4nt4XmP1"
   },
   "outputs": [],
   "source": [
    "segment_length = 5\n",
    "segments = [line[i: i + segment_length] \n",
    "            for i in range(0, line_length - segment_length + 1, segment_length)]"
   ]
  },
  {
   "cell_type": "markdown",
   "metadata": {
    "id": "qmzhIo7KYXsI"
   },
   "source": [
    "For example, the first segment consists of the following qubits."
   ]
  },
  {
   "cell_type": "code",
   "execution_count": null,
   "metadata": {
    "id": "oa5DohtYYbbn"
   },
   "outputs": [],
   "source": [
    "print(*segments[0])"
   ]
  },
  {
   "cell_type": "markdown",
   "metadata": {
    "id": "58QbX8etXwZP"
   },
   "source": [
    "We now implement a number of Trotter steps on each segment in parallel. The middle qubit on each segment is put into the $|1\\rangle$ state, then each Trotter step consists of staggered $\\sqrt{\\text{iSWAP}}$ gates. All qubits are measured in the $Z$ basis at the end of the circuit.\n",
    "\n",
    "For convenience, this code is wrapped in a function."
   ]
  },
  {
   "cell_type": "code",
   "execution_count": null,
   "metadata": {
    "id": "ZsmV4FfjXwh0"
   },
   "outputs": [],
   "source": [
    "sqrt_iswap = cirq.ISWAP ** 0.5\n",
    "\n",
    "def create_linear_chain_segment(\n",
    "    segment: Sequence[cirq.Qid],\n",
    "    num_trotter_steps: int,\n",
    ") -> cirq.Circuit:\n",
    "    \"\"\"Returns a linear chain circuit on one segment.\"\"\"\n",
    "    circuit = cirq.Circuit(cirq.X.on(segment[len(segment) // 2]))\n",
    "\n",
    "    # Trotter steps.\n",
    "    for step in range(num_trotter_steps):\n",
    "        offset = step % 2\n",
    "        circuit += cirq.Moment(\n",
    "            [sqrt_iswap.on(a, b) for a, b in zip(segment[offset::2], \n",
    "                                                 segment[offset + 1::2])])\n",
    "    return circuit\n",
    "\n",
    "def create_linear_chain_circuit(\n",
    "    segments: Sequence[Sequence[cirq.Qid]],\n",
    "    num_trotter_steps: int,\n",
    ") -> cirq.Circuit:\n",
    "    \"\"\"Returns a linear chain circuit to demonstrate Floquet calibration on.\"\"\"\n",
    "    circuit_segments = [create_linear_chain_segment(segment, num_trotter_steps) for segment in segments]\n",
    "    circuit = cirq.Circuit.zip(*circuit_segments)\n",
    "    return circuit + cirq.measure(*sum(segments, ()), key='z')"
   ]
  },
  {
   "cell_type": "markdown",
   "metadata": {
    "id": "q_gj-pCddCB4"
   },
   "source": [
    "As an example, we show this circuit on the first segment of the line from above."
   ]
  },
  {
   "cell_type": "code",
   "execution_count": null,
   "metadata": {
    "id": "FX2ytaAWdIPS"
   },
   "outputs": [],
   "source": [
    "\"\"\"Example of the linear chain circuit on one segment of the line.\"\"\"\n",
    "num_trotter_steps = 20\n",
    "\n",
    "circuit_on_segment = create_linear_chain_circuit(\n",
    "    segments=[segments[0]],\n",
    "    num_trotter_steps=num_trotter_steps,\n",
    ")\n",
    "print(circuit_on_segment.to_text_diagram(qubit_order=segments[0]))"
   ]
  },
  {
   "cell_type": "markdown",
   "metadata": {
    "id": "O1Ez7SeueSAZ"
   },
   "source": [
    "The circuit we will use for Floquet calibration is this same pattern repeated on all segments of the line."
   ]
  },
  {
   "cell_type": "code",
   "execution_count": null,
   "metadata": {
    "id": "zeu0XeHJed7S"
   },
   "outputs": [],
   "source": [
    "\"\"\"Circuit used to demonstrate Floquet calibration.\"\"\"\n",
    "circuit = create_linear_chain_circuit(\n",
    "    segments=segments,\n",
    "    num_trotter_steps=num_trotter_steps\n",
    ")"
   ]
  },
  {
   "cell_type": "markdown",
   "metadata": {
    "id": "I5AqYTREfEFn"
   },
   "source": [
    "## Execution on a simulator"
   ]
  },
  {
   "cell_type": "markdown",
   "metadata": {
    "id": "XH2yS_ZrfjZq"
   },
   "source": [
    "To establish a \"ground truth,\" we first simulate a segment on a noiseless simulator."
   ]
  },
  {
   "cell_type": "code",
   "execution_count": null,
   "metadata": {
    "id": "eSgMSUgxfJp_"
   },
   "outputs": [],
   "source": [
    "\"\"\"Simulate one segment on a simulator.\"\"\"\n",
    "nreps = 20_000\n",
    "sim_result = cirq.Simulator().run(circuit_on_segment, repetitions=nreps)"
   ]
  },
  {
   "cell_type": "markdown",
   "metadata": {
    "id": "xEYoF9WxmX4E"
   },
   "source": [
    "## Execution on the processor without Floquet calibration"
   ]
  },
  {
   "cell_type": "markdown",
   "metadata": {
    "id": "ClQwA0xtfuzt"
   },
   "source": [
    "We now execute the full circuit on a processor without using Floquet calibration."
   ]
  },
  {
   "cell_type": "code",
   "execution_count": null,
   "metadata": {
    "id": "P93pSJnZgLjJ"
   },
   "outputs": [],
   "source": [
    "\"\"\"Execute the full circuit on a processor without Floquet calibration.\"\"\"\n",
    "raw_results = device_sampler.sampler.run(circuit, repetitions=nreps)"
   ]
  },
  {
   "cell_type": "markdown",
   "metadata": {
    "id": "jDPxQ05ZbnfA"
   },
   "source": [
    "### Comparing raw results to simulator results"
   ]
  },
  {
   "cell_type": "markdown",
   "metadata": {
    "id": "4cjQVjPlcE7C"
   },
   "source": [
    "For comparison we will plot densities (average measurement results) on each segment. Such densities are in the interval $[0, 1]$ and more accurate results are closer to the simulator results.\n",
    "\n",
    "To visualize results, we define a few helper functions."
   ]
  },
  {
   "cell_type": "markdown",
   "metadata": {
    "id": "VEYnL7eVg2es"
   },
   "source": [
    "### Helper functions"
   ]
  },
  {
   "cell_type": "markdown",
   "metadata": {
    "id": "RyslDEsXE5eM"
   },
   "source": [
    "Note: The functions in this section are just utilities for visualizing results and not essential for Floquet calibration. As such this section can be safely skipped or skimmed."
   ]
  },
  {
   "cell_type": "markdown",
   "metadata": {
    "id": "qe7bDgEbhaqy"
   },
   "source": [
    "The next cell defines two functions for returning the density (average measurement results) on a segment or on all segments. We can optionally post-select for measurements with a specific filling (particle number) - i.e., discard measurement results which don't obey this expected particle number."
   ]
  },
  {
   "cell_type": "code",
   "execution_count": null,
   "metadata": {
    "id": "0d9f79403427"
   },
   "outputs": [],
   "source": [
    "def z_density_from_measurements(\n",
    "    measurements: np.ndarray,\n",
    "    post_select_filling: Optional[int] = 1\n",
    ") -> np.ndarray:\n",
    "    \"\"\"Returns density for one segment on the line.\"\"\"\n",
    "    counts = np.sum(measurements, axis=1, dtype=int)\n",
    "    \n",
    "    if post_select_filling is not None:\n",
    "        errors = np.abs(counts - post_select_filling)\n",
    "        counts = measurements[errors == 0]\n",
    "\n",
    "    return np.average(counts, axis=0)\n",
    "\n",
    "\n",
    "def z_densities_from_result(\n",
    "    result: cirq.Result,\n",
    "    segments: Iterable[Sequence[cirq.Qid]],\n",
    "    post_select_filling: Optional[int] = 1\n",
    ") -> List[np.ndarray]:\n",
    "    \"\"\"Returns densities for each segment on the line.\"\"\"\n",
    "    measurements = result.measurements['z']\n",
    "    z_densities = []\n",
    "    \n",
    "    offset = 0\n",
    "    for segment in segments:\n",
    "        z_densities.append(z_density_from_measurements(\n",
    "            measurements[:, offset: offset + len(segment)], \n",
    "            post_select_filling)\n",
    "        )\n",
    "        offset += len(segment)\n",
    "    return z_densities"
   ]
  },
  {
   "cell_type": "markdown",
   "metadata": {
    "id": "zu3zCnleiQya"
   },
   "source": [
    "Now we define functions to plot the densities for the simulator, processor without Floquet calibration, and processor with Floquet calibration (which we will use at the end of this notebook). The first function is for a single segment, and the second function is for all segments."
   ]
  },
  {
   "cell_type": "code",
   "execution_count": null,
   "metadata": {
    "cellView": "form",
    "id": "c_xPAfiY52W2"
   },
   "outputs": [],
   "source": [
    "#@title\n",
    "def plot_density(\n",
    "    ax: plt.Axes,\n",
    "    sim_density: np.ndarray,\n",
    "    raw_density: np.ndarray,\n",
    "    cal_density: Optional[np.ndarray] = None,\n",
    "    raw_errors: Optional[np.ndarray] = None,\n",
    "    cal_errors: Optional[np.ndarray] = None,\n",
    "    title: Optional[str] = None,\n",
    "    show_legend: bool = True,\n",
    "    show_ylabel: bool = True,\n",
    ") -> None:\n",
    "    \"\"\"Plots the density of a single segment for simulated, raw, and calibrated\n",
    "    results.\n",
    "    \"\"\"\n",
    "    colors = [\"grey\", \"orange\", \"green\"]\n",
    "    alphas = [0.5, 0.8, 0.8]\n",
    "    labels = [\"sim\", \"raw\", \"cal\"]\n",
    "\n",
    "    # Plot densities.\n",
    "    for i, density in enumerate([sim_density, raw_density, cal_density]):\n",
    "        if density is not None:\n",
    "            ax.plot(\n",
    "                range(len(density)), \n",
    "                density, \n",
    "                \"-o\" if i == 0 else \"o\",\n",
    "                markersize=11,\n",
    "                color=colors[i],\n",
    "                alpha=alphas[i],\n",
    "                label=labels[i]\n",
    "            )\n",
    "\n",
    "    # Plot errors if provided.\n",
    "    errors = [raw_errors, cal_errors]\n",
    "    densities = [raw_density, cal_density]\n",
    "    for i, (errs, dens) in enumerate(zip(errors, densities)):\n",
    "        if errs is not None:\n",
    "            ax.errorbar(\n",
    "                range(len(errs)),\n",
    "                dens,\n",
    "                errs,\n",
    "                linestyle='',\n",
    "                color=colors[i + 1],\n",
    "                capsize=8,\n",
    "                elinewidth=2,\n",
    "                markeredgewidth=2\n",
    "        )\n",
    "    \n",
    "    # Titles, axes, and legend.\n",
    "    ax.set_xticks(list(range(len(sim_density))))\n",
    "    ax.set_xlabel(\"Qubit index in segment\")\n",
    "    if show_ylabel:\n",
    "        ax.set_ylabel(\"Density\")\n",
    "    if title:\n",
    "        ax.set_title(title)\n",
    "    if show_legend:\n",
    "        ax.legend()\n",
    "\n",
    "\n",
    "def plot_densities(\n",
    "    sim_density: np.ndarray,\n",
    "    raw_densities: Sequence[np.ndarray],\n",
    "    cal_densities: Optional[Sequence[np.ndarray]] = None,\n",
    "    rows: int = 3\n",
    ") -> None:\n",
    "    \"\"\"Plots densities for simulated, raw, and calibrated results on all segments.\n",
    "    \"\"\"\n",
    "    if not cal_densities:\n",
    "        cal_densities = [None] * len(raw_densities)\n",
    "\n",
    "    cols = (len(raw_densities) + rows - 1) // rows\n",
    "\n",
    "    fig, axes = plt.subplots(\n",
    "        rows, cols, figsize=(cols * 4, rows * 3.5), sharey=True\n",
    "    )\n",
    "    if rows == 1 and cols == 1:\n",
    "        axes = [axes]\n",
    "    elif rows > 1 and cols > 1:\n",
    "        axes = [axes[row, col] for row in range(rows) for col in range(cols)]\n",
    "\n",
    "    for i, (ax, raw, cal) in enumerate(zip(axes, raw_densities, cal_densities)):\n",
    "        plot_density(\n",
    "            ax, \n",
    "            sim_density, \n",
    "            raw, \n",
    "            cal, \n",
    "            title=f\"Segment {i + 1}\", \n",
    "            show_legend=False,\n",
    "            show_ylabel=i % cols == 0\n",
    "        )\n",
    "\n",
    "    # Common legend for all subplots.\n",
    "    handles, labels = ax.get_legend_handles_labels()\n",
    "    fig.legend(handles, labels)\n",
    "\n",
    "    plt.tight_layout(pad=0.1, w_pad=1.0, h_pad=3.0)"
   ]
  },
  {
   "cell_type": "markdown",
   "metadata": {
    "id": "L6FZpe1Wc_5x"
   },
   "source": [
    "### Visualizing results"
   ]
  },
  {
   "cell_type": "markdown",
   "metadata": {
    "id": "fuYLyHvLR5U8"
   },
   "source": [
    "Note: This section uses helper functions from the previous section to plot results. The code can be safely skimmed: emphasis should be on the plots."
   ]
  },
  {
   "cell_type": "markdown",
   "metadata": {
    "id": "fvjEiqpodHaw"
   },
   "source": [
    "To visualize results, we first extract densities from the measurements."
   ]
  },
  {
   "cell_type": "code",
   "execution_count": null,
   "metadata": {
    "id": "k3WG5qUBdHkk"
   },
   "outputs": [],
   "source": [
    "\"\"\"Extract densities from measurement results.\"\"\"\n",
    "# Simulator density.\n",
    "sim_density, = z_densities_from_result(sim_result,[circuit_on_segment])\n",
    "\n",
    "# Processor densities without Floquet calibration.\n",
    "raw_densities = z_densities_from_result(raw_results, segments)"
   ]
  },
  {
   "cell_type": "markdown",
   "metadata": {
    "id": "s75BlfyId5Q_"
   },
   "source": [
    "We first plot the densities on each segment. Note that the simulator densities (\"sim\") are repeated on each segment and the lines connecting them are just visual guides."
   ]
  },
  {
   "cell_type": "code",
   "execution_count": null,
   "metadata": {
    "id": "TJMTLXfzd5dc"
   },
   "outputs": [],
   "source": [
    "plot_densities(sim_density, raw_densities, rows=int(np.sqrt(line_length / segment_length)))"
   ]
  },
  {
   "cell_type": "markdown",
   "metadata": {
    "id": "22k61W-aev56"
   },
   "source": [
    "We can also look at the average and variance over the segments."
   ]
  },
  {
   "cell_type": "code",
   "execution_count": null,
   "metadata": {
    "id": "VLXPlhflewIN"
   },
   "outputs": [],
   "source": [
    "\"\"\"Plot mean density and variance over segments.\"\"\"\n",
    "raw_avg = np.average(raw_densities, axis=0)\n",
    "raw_std = np.std(raw_densities, axis=0, ddof=1)\n",
    "\n",
    "plot_density(\n",
    "    plt.gca(), \n",
    "    sim_density, \n",
    "    raw_density=raw_avg,\n",
    "    raw_errors=raw_std,\n",
    "    title=\"Average over segments\"\n",
    ")"
   ]
  },
  {
   "cell_type": "markdown",
   "metadata": {
    "id": "ZfUDGphwgX-q"
   },
   "source": [
    "In the next section, we will use Floquet calibration to produce better average results. After running the circuit with Floquet calibration, we will use these same visualizations to compare results."
   ]
  },
  {
   "cell_type": "markdown",
   "metadata": {
    "id": "tT5jX3XwxiVB"
   },
   "source": [
    "### Execution on the processor with Floquet calibration"
   ]
  },
  {
   "cell_type": "markdown",
   "metadata": {
    "id": "oYF9lrPxxkRK"
   },
   "source": [
    "There are two equivalent ways to use Floquet calibration which we outline below. A rough estimate for the time required for Floquet calibration is about 16 seconds per 10 qubits, plus 30 seconds of overhead, per calibrated moment."
   ]
  },
  {
   "cell_type": "markdown",
   "metadata": {
    "id": "U7j5SFiI02XY"
   },
   "source": [
    "#### Simple usage"
   ]
  },
  {
   "cell_type": "markdown",
   "metadata": {
    "id": "GjelVxeuDLF6"
   },
   "source": [
    "The first way to use Floquet calibration is via the single function call used at the start of this notebook. Here, we describe the remaining returned values in addition to `calibrated_circuit`."
   ]
  },
  {
   "cell_type": "markdown",
   "metadata": {
    "id": "yreBkU8rCE-N"
   },
   "source": [
    "Note: We comment out this section so Floquet calibration is only executed once in the notebook."
   ]
  },
  {
   "cell_type": "code",
   "execution_count": null,
   "metadata": {
    "id": "bJKwCyj8xkbv"
   },
   "outputs": [],
   "source": [
    "# (calibrated_circuit, calibrations\n",
    "#  ) = cg.run_zeta_chi_gamma_compensation_for_moments(\n",
    "#     circuit,\n",
    "#     device_sampler.sampler,\n",
    "# )"
   ]
  },
  {
   "cell_type": "markdown",
   "metadata": {
    "id": "Zk_HVBzL-4O6"
   },
   "source": [
    "The returned `calibrated_circuit.circuit` can then be run on the engine. The full list of returned arguments is as follows:\n",
    "\n",
    "* `calibrated_circuit.circuit`: The input `circuit` with added $Z$ rotations around each $\\sqrt{\\text{iSWAP}}$ gate to compensate for errors.\n",
    "* `calibrated_circuit.moment_to_calibration`: Provides an index of the matching characterization (index in calibrations list) for each moment of the `calibrated_circuit.circuit`, or `None` if the moment was not characterized (e.g., for a measurement outcome).\n",
    "* `calibrations`: List of characterization results for each characterized moment. Each characterization contains angles for each qubit pair."
   ]
  },
  {
   "cell_type": "markdown",
   "metadata": {
    "id": "dCJtGTLC05X8"
   },
   "source": [
    "#### Step-by-step usage"
   ]
  },
  {
   "cell_type": "markdown",
   "metadata": {
    "id": "d9uZZP-q_tsI"
   },
   "source": [
    "Note: This section is provided to see the Floquet calibration API at a lower level, but the results are identical to the \"simple usage\" in the previous section."
   ]
  },
  {
   "cell_type": "markdown",
   "metadata": {
    "id": "316NZ2KBre3a"
   },
   "source": [
    "The above function `cirq_google.run_zeta_chi_gamma_compensation_for_moments` performs the following three steps:\n",
    "\n",
    "1. Find moments within the circuit that need to be characterized.\n",
    "2. Characterize them on the engine.\n",
    "3. Apply corrections to the original circuit.\n",
    "\n",
    "To find moments that need to be characterized, we can do the following."
   ]
  },
  {
   "cell_type": "code",
   "execution_count": null,
   "metadata": {
    "id": "Tc8hyMUQrQtZ"
   },
   "outputs": [],
   "source": [
    "\"\"\"Step 1: Find moments in the circuit that need to be characterized.\"\"\"\n",
    "(characterized_circuit, characterization_requests\n",
    " ) = cg.prepare_characterization_for_moments(\n",
    "    circuit,\n",
    "    options=cg.FloquetPhasedFSimCalibrationOptions(\n",
    "        characterize_theta=False,\n",
    "        characterize_zeta=True,\n",
    "        characterize_chi=False,\n",
    "        characterize_gamma=True,\n",
    "        characterize_phi=False\n",
    "    )\n",
    ")"
   ]
  },
  {
   "cell_type": "markdown",
   "metadata": {
    "id": "TIITTIDp2oMh"
   },
   "source": [
    "The `characterization_requests` contain information on the operations (gate + qubit pairs) to characterize."
   ]
  },
  {
   "cell_type": "code",
   "execution_count": null,
   "metadata": {
    "id": "3LLKDb7W2oYT"
   },
   "outputs": [],
   "source": [
    "\"\"\"Show an example characterization request.\"\"\"\n",
    "print(f\"Total {len(characterization_requests)} moment(s) to characterize.\")\n",
    "\n",
    "print(\"\\nExample request\")\n",
    "request = characterization_requests[0]\n",
    "print(\"Gate:\", request.gate)\n",
    "print(\"Qubit pairs:\", request.pairs)\n",
    "print(\"Options: \", request.options)"
   ]
  },
  {
   "cell_type": "markdown",
   "metadata": {
    "id": "K65yBYfvsGey"
   },
   "source": [
    "We now characterize them on the engine using `cirq_google.run_calibrations`."
   ]
  },
  {
   "cell_type": "code",
   "execution_count": null,
   "metadata": {
    "id": "x4CVeMbJRaQ4"
   },
   "outputs": [],
   "source": [
    "\"\"\"Step 2: Characterize moments on the engine.\"\"\"\n",
    "characterizations = cg.run_calibrations(\n",
    "    characterization_requests,\n",
    "    device_sampler.sampler,\n",
    "    max_layers_per_request=1,\n",
    ")"
   ]
  },
  {
   "cell_type": "markdown",
   "metadata": {
    "id": "BTeo53QCO6S6"
   },
   "source": [
    "The `characterizations` store characterization results for each pair in each moment, for example."
   ]
  },
  {
   "cell_type": "code",
   "execution_count": null,
   "metadata": {
    "id": "ajFaHBYCPNW6"
   },
   "outputs": [],
   "source": [
    "print(f\"Total: {len(characterizations)} characterizations.\")\n",
    "print()\n",
    "\n",
    "(pair, parameters), *_ = characterizations[0].parameters.items()\n",
    "print(f\"Example pair: {pair}\")\n",
    "print(f\"Example parameters: {parameters}\")"
   ]
  },
  {
   "cell_type": "markdown",
   "metadata": {
    "id": "Ck56fwXovEoG"
   },
   "source": [
    "Finally, we apply corrections to the original circuit."
   ]
  },
  {
   "cell_type": "code",
   "execution_count": null,
   "metadata": {
    "id": "87vyHO_6okUX"
   },
   "outputs": [],
   "source": [
    "\"\"\"Step 3: Apply corrections to the circuit to get a calibrated circuit.\"\"\"\n",
    "calibrated_circuit = cg.make_zeta_chi_gamma_compensation_for_moments(\n",
    "    characterized_circuit,\n",
    "    characterizations\n",
    ")"
   ]
  },
  {
   "cell_type": "markdown",
   "metadata": {
    "id": "f3amHIN-DP3N"
   },
   "source": [
    "The calibrated circuit can now be run on the processor. We first inspect the calibrated circuit to compare to the original."
   ]
  },
  {
   "cell_type": "code",
   "execution_count": null,
   "metadata": {
    "id": "i0FCIpY-14hK"
   },
   "outputs": [],
   "source": [
    "print(\"Portion of calibrated circuit:\")\n",
    "print(\"\\n\".join(\n",
    "      calibrated_circuit.circuit.to_text_diagram(qubit_order=line).splitlines()[:9] + \n",
    "      [\"...\"]))"
   ]
  },
  {
   "cell_type": "markdown",
   "metadata": {
    "id": "H0-FnWjBDX2W"
   },
   "source": [
    "Note again that $\\sqrt{\\text{iSWAP}}$ gates are padded by $Z$ phases to compensate for errors. We now run this calibrated circuit."
   ]
  },
  {
   "cell_type": "code",
   "execution_count": null,
   "metadata": {
    "id": "MxUL8IzCi6Za"
   },
   "outputs": [],
   "source": [
    "\"\"\"Run the calibrated circuit on the engine.\"\"\"\n",
    "cal_results = device_sampler.sampler.run(calibrated_circuit.circuit, repetitions=nreps)"
   ]
  },
  {
   "cell_type": "markdown",
   "metadata": {
    "id": "SOFAvjg7fAxN"
   },
   "source": [
    "### Comparing raw results to calibrated results"
   ]
  },
  {
   "cell_type": "markdown",
   "metadata": {
    "id": "Z6D04KDog2TQ"
   },
   "source": [
    "We now compare results with and without Floquet calibration, again using the simulator results as a baseline for comparison. First we extract the calibrated densities."
   ]
  },
  {
   "cell_type": "code",
   "execution_count": null,
   "metadata": {
    "id": "3bxe9ktOhDsI"
   },
   "outputs": [],
   "source": [
    "\"\"\"Extract densities from measurement results.\"\"\"\n",
    "cal_densities = z_densities_from_result(cal_results, segments)"
   ]
  },
  {
   "cell_type": "markdown",
   "metadata": {
    "id": "Z_lypgV9F7Mv"
   },
   "source": [
    "Now we reproduce the same density plots from above on each segment, this time including the calibrated (\"cal\") results."
   ]
  },
  {
   "cell_type": "code",
   "execution_count": null,
   "metadata": {
    "id": "KSYoujvz-GN7"
   },
   "outputs": [],
   "source": [
    "plot_densities(\n",
    "    sim_density, raw_densities, cal_densities, rows=int(np.sqrt(line_length / segment_length))\n",
    ")"
   ]
  },
  {
   "cell_type": "markdown",
   "metadata": {
    "id": "Az2XB0tEicCW"
   },
   "source": [
    "We also visualize the mean and variance of results over segments as before."
   ]
  },
  {
   "cell_type": "code",
   "execution_count": null,
   "metadata": {
    "id": "f-fmFJyjicKA"
   },
   "outputs": [],
   "source": [
    "\"\"\"Plot mean density and variance over segments.\"\"\"\n",
    "raw_avg = np.average(raw_densities, axis=0)\n",
    "raw_std = np.std(raw_densities, axis=0, ddof=1)\n",
    "\n",
    "cal_avg = np.average(cal_densities, axis=0)\n",
    "cal_std = np.std(cal_densities, axis=0, ddof=1)\n",
    "\n",
    "plot_density(\n",
    "    plt.gca(), \n",
    "    sim_density, \n",
    "    raw_avg, \n",
    "    cal_avg, \n",
    "    raw_std, \n",
    "    cal_std, \n",
    "    title=\"Average over segments\"\n",
    ")"
   ]
  },
  {
   "cell_type": "markdown",
   "metadata": {
    "id": "wmkUh44QEEG_"
   },
   "source": [
    "Last, we can look at density errors between raw/calibrated results and simulated results."
   ]
  },
  {
   "cell_type": "code",
   "execution_count": null,
   "metadata": {
    "id": "QH4bJuvyJ3mv"
   },
   "outputs": [],
   "source": [
    "\"\"\"Plot errors of raw vs calibrated results.\"\"\"\n",
    "fig, axes = plt.subplots(ncols=2, figsize=(15, 4))\n",
    "\n",
    "axes[0].set_title(\"Error of the mean\")\n",
    "axes[0].set_ylabel(\"Density\")\n",
    "axes[1].set_title(\"Data standard deviation\")\n",
    "\n",
    "colors = [\"orange\", \"green\"]\n",
    "labels = [\"raw\", \"cal\"]\n",
    "\n",
    "for index, density in enumerate([raw_densities, cal_densities]):\n",
    "    color = colors[index]\n",
    "    label = labels[index]\n",
    "\n",
    "    average_density = np.average(density, axis=0)\n",
    "    sites = list(range(len(average_density)))\n",
    "      \n",
    "    error = np.abs(average_density - sim_density)\n",
    "    std_dev = np.std(density, axis=0, ddof=1)\n",
    "\n",
    "    axes[0].plot(sites, error, color=color, alpha=0.6)\n",
    "    axes[0].scatter(sites, error, color=color)\n",
    "\n",
    "    axes[1].plot(sites, std_dev, label=label, color=color, alpha=0.6)\n",
    "    axes[1].scatter(sites, std_dev, color=color)\n",
    "\n",
    "for ax in axes:\n",
    "    ax.set_xticks(sites)\n",
    "    ax.set_xlabel(\"Qubit index in segment\")\n",
    "\n",
    "plt.legend();"
   ]
  }
 ],
 "metadata": {
  "colab": {
   "collapsed_sections": [],
   "name": "floquet_calibration_example.ipynb",
   "toc_visible": true
  },
  "kernelspec": {
   "display_name": "Python 3",
   "name": "python3"
  }
 },
 "nbformat": 4,
 "nbformat_minor": 0
}
